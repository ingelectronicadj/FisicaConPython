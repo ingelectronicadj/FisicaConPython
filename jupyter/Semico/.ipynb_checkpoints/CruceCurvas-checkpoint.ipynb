{
 "cells": [
  {
   "cell_type": "code",
   "execution_count": null,
   "metadata": {
    "collapsed": false
   },
   "outputs": [],
   "source": [
    "#SOLUCION POR CRUCE DE 2 CURVAS\n",
    "#Diego Javier Mena Amado Cod.:20092005053\n",
    "#Danny Tales Tales Cod. \n",
    "\n",
    "import numpy as np\n",
    "import matplotlib.pyplot as plt\n",
    "from scipy.optimize import newton\n",
    "\n",
    "#Definimos limites de barrido\n",
    "x = np.linspace(0, 5.5, 1000)\n",
    "y = np.linspace(0, 1, 1000)\n",
    "\n",
    "\n",
    "#Se cargan los estilos para las curvas\n",
    "style = {'family' : 'bold italic','color'  : 'blue','weight' : 'normal','size'   : 14}\n",
    "style1 = {'family' : 'bold italic','color'  : 'green','weight' : 'normal','size'   : 14}     \n",
    "style2 = {'family' : 'bold italic','color'  : 'red','weight' : 'normal','size'   : 14}\n",
    "style3 = {'family' : 'bold italic','color'  : 'red','weight' : 'normal','size'   : 10}\n",
    "\n",
    "\n",
    "plt.title('PUNTO SOLUCION ENTRE DOS ECUACIONES', fontdict=style2)\n",
    "plt.text(4, 0.2, r'$\\  Diego \\ Javier \\ Mena $', fontdict=style)\n",
    "plt.text(4, 0.15, r'$\\  Danny \\ Tales \\ Tales $', fontdict=style)\n",
    "plt.text(4.3, 0.8, r'$\\  Punto \\ de \\ corte $', fontdict=style2)\n",
    "\n",
    "plt.text(2.2, 0.85, r'$\\ 1-exp(-x)$', fontdict=style)\n",
    "plt.text(3, 0.5, r'$\\ x/5$', fontdict=style1)\n",
    "\n",
    "plt.plot(x, 1-np.exp(-x), x, x / 5)\n",
    "\n",
    "\n",
    "def f(x):\n",
    "    return 1-np.exp(-x) - x/5\n",
    "solvePoint = newton(f, 5.0)\n",
    "\n",
    "plt.text(4.8, 0.75, 'X=%f'% solvePoint, fontdict=style3)\n",
    "plt.show()\n"
   ]
  },
  {
   "cell_type": "code",
   "execution_count": null,
   "metadata": {
    "collapsed": true
   },
   "outputs": [],
   "source": []
  }
 ],
 "metadata": {
  "kernelspec": {
   "display_name": "Python 3",
   "language": "python",
   "name": "python3"
  },
  "language_info": {
   "codemirror_mode": {
    "name": "ipython",
    "version": 3
   },
   "file_extension": ".py",
   "mimetype": "text/x-python",
   "name": "python",
   "nbconvert_exporter": "python",
   "pygments_lexer": "ipython3",
   "version": "3.5.1"
  }
 },
 "nbformat": 4,
 "nbformat_minor": 0
}
