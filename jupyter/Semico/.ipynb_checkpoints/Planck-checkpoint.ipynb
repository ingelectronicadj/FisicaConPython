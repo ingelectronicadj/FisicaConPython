{
 "cells": [
  {
   "cell_type": "code",
   "execution_count": 1,
   "metadata": {
    "collapsed": false
   },
   "outputs": [
    {
     "ename": "TabError",
     "evalue": "inconsistent use of tabs and spaces in indentation (<ipython-input-1-12a3645a3f27>, line 26)",
     "output_type": "error",
     "traceback": [
      "\u001b[1;36m  File \u001b[1;32m\"<ipython-input-1-12a3645a3f27>\"\u001b[1;36m, line \u001b[1;32m26\u001b[0m\n\u001b[1;33m    plt.text(0.9,25, 'Danny Fabian Mora 20112005201\\nDiego Javier Mena 20092005053', style='italic',bbox={'facecolor':'red','alpha':0.5, 'pad':10})\u001b[0m\n\u001b[1;37m                                                                                                                                                   ^\u001b[0m\n\u001b[1;31mTabError\u001b[0m\u001b[1;31m:\u001b[0m inconsistent use of tabs and spaces in indentation\n"
     ]
    }
   ],
   "source": [
    "import matplotlib.pyplot as plt\n",
    "import numpy as np\n",
    "from matplotlib.widgets import Slider\n",
    "\n",
    "\n",
    "k=1.38*10**(-23)\n",
    "h=6.62*10**(-34)\n",
    "c=3*10**8\n",
    "\n",
    "def ysal(valor):\n",
    "\tsalida=pow(((valor**5)*(np.exp(1/valor)-1)),(-1))\n",
    "\t#salida=np.sin(valor)\n",
    "\treturn salida\n",
    "class ChangingPlot(object):\n",
    "    def __init__(self):\n",
    "        self.inc = 0.001\n",
    "\n",
    "        self.fig, self.ax = plt.subplots()\n",
    "        self.sliderax = self.fig.add_axes([0.2, 0.02, 0.3, 0.03],\n",
    "                                          axisbg='yellow')\n",
    "\n",
    "        self.slider = Slider(self.sliderax, 'Value', 0, 1, valinit=self.inc)\n",
    "        self.slider.on_changed(self.update)\n",
    "        self.slider.drawon = False\n",
    "\n",
    "\tplt.text(0.9,25, 'Danny Fabian Mora 20112005201\\nDiego Javier Mena 20092005053', style='italic',bbox={'facecolor':'red','alpha':0.5, 'pad':10})\n",
    "\tplt.text(0.23, 20, r'$\\ Ley \\ de \\ Planck $')\n",
    "\tplt.text(0.52, 18, r'$\\ Ley \\ de \\ Rayleigh-Jeans $')\n",
    "\tplt.text(0.2, 25, r'$\\ Limite \\ de \\ Wien $')\n",
    "\tplt.text(0.8,10,'$\\\\int_{0}^{\\\\infty} \\\\frac{1}{((x^5)*(exp(1/x)-1))} dx=\\\\frac{\\\\pi^4}{15}$',fontsize=20)\n",
    "        x = np.arange(0.01, 1, self.inc)\n",
    "\tx2=np.arange(0.18,1,self.inc)\n",
    "\tx3=np.arange(0.45,1,self.inc)\n",
    "\ty=ysal(x)\n",
    "\tself.ax.plot(x, ((x**5)*(np.exp(1/x)-1))**(-1), x, ((x**5)*(np.exp(1/(0.9*x))-1))**(-1), x, ((x**5)*(np.exp(1/(0.8*x))-1))**(-1))\n",
    "\tself.ax.plot(x3, 1/(x3**4), x3,1/(0.9*x3**4),x3,1/(0.8*x3**4) )\n",
    "\tself.ax.plot(x2,np.exp(((1)/(x2)))*10**(-0.87))\n",
    "\tself.ax.fill(x,y,'b',alpha=0.1)\n",
    "        self.dot, = self.ax.plot(self.inc, ysal(self.inc), 'bo', markersize=18)\n",
    "\n",
    "\n",
    "    def update(self, value):\n",
    "        value = int(value / self.inc) * self.inc\n",
    "\tvalue2=ysal(value)\n",
    "        self.dot.set_data([[value],[value2]])\n",
    "        self.slider.valtext.set_text('{}'.format(value))\n",
    "        self.fig.canvas.draw()\n",
    "\n",
    "    def show(self):\n",
    "        plt.show()\n",
    "\n",
    "p = ChangingPlot()\n",
    "p.show()\n"
   ]
  },
  {
   "cell_type": "code",
   "execution_count": null,
   "metadata": {
    "collapsed": true
   },
   "outputs": [],
   "source": []
  }
 ],
 "metadata": {
  "kernelspec": {
   "display_name": "Python 3",
   "language": "python",
   "name": "python3"
  },
  "language_info": {
   "codemirror_mode": {
    "name": "ipython",
    "version": 3
   },
   "file_extension": ".py",
   "mimetype": "text/x-python",
   "name": "python",
   "nbconvert_exporter": "python",
   "pygments_lexer": "ipython3",
   "version": "3.5.1"
  }
 },
 "nbformat": 4,
 "nbformat_minor": 0
}
